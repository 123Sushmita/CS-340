{
 "cells": [
  {
   "cell_type": "code",
   "execution_count": 13,
   "id": "3ed24c36",
   "metadata": {},
   "outputs": [
    {
     "name": "stdout",
     "output_type": "stream",
     "text": [
      "Dash app running on http://127.0.0.1:10087/\n"
     ]
    }
   ],
   "source": [
    "# Import necessary libraries\n",
    "from jupyter_dash import JupyterDash\n",
    "import dash_leaflet as dl\n",
    "from dash import dcc, html, dash_table\n",
    "from dash.dependencies import Input, Output\n",
    "import plotly.express as px\n",
    "import pandas as pd\n",
    "import base64\n",
    "from animal_shelter import AnimalShelter  # Ensure this matches your CRUD module\n",
    "\n",
    "# Database Connection\n",
    "username = \"aacuser\"\n",
    "password = \"yourPasswordHere\"\n",
    "db = AnimalShelter(username, password)\n",
    "\n",
    "def get_data(filter_query={}):\n",
    "    df = pd.DataFrame.from_records(db.read(filter_query))\n",
    "    if '_id' in df.columns:\n",
    "        df.drop(columns=['_id'], inplace=True)\n",
    "    return df\n",
    "\n",
    "# Initialize app\n",
    "app = JupyterDash(__name__)\n",
    "\n",
    "# Encode logo image\n",
    "\n",
    "\n",
    "image_filename = 'Grazioso Salvare Logo.png'  # Use correct filename\n",
    "encoded_image = base64.b64encode(open(image_filename, 'rb').read()).decode()\n",
    "\n",
    "\n",
    "# Layout\n",
    "app.layout = html.Div([\n",
    "    html.Center(html.B(html.H1('CS-340 Animal Shelter Dashboard'))),\n",
    "    html.Img(src=f'data:image/png;base64,{encoded_image}', style={'width': '200px'}),\n",
    "    html.Hr(),\n",
    "\n",
    "    # Filtering Options\n",
    "    html.Div([\n",
    "        dcc.Dropdown(id='filter-type', options=[\n",
    "            {'label': 'All Animals', 'value': 'all'},\n",
    "            {'label': 'Dogs', 'value': 'Dog'},\n",
    "            {'label': 'Cats', 'value': 'Cat'}\n",
    "        ], value='all', placeholder='Filter by Species'),\n",
    "    ]),\n",
    "    html.Hr(),\n",
    "\n",
    "    # Data Table\n",
    "    dash_table.DataTable(\n",
    "        id='datatable-id',\n",
    "        columns=[{'name': i, 'id': i, 'deletable': False, 'selectable': True} for i in get_data().columns],\n",
    "        data=get_data().to_dict('records'),\n",
    "        row_selectable='single',\n",
    "        style_table={'overflowX': 'auto'}\n",
    "    ),\n",
    "    html.Br(),\n",
    "    html.Hr(),\n",
    "    \n",
    "    # Graph & Map\n",
    "    html.Div(className='row', style={'display': 'flex'}, children=[\n",
    "        html.Div(id='graph-id', className='col s12 m6'),\n",
    "        html.Div(id='map-id', className='col s12 m6')\n",
    "    ])\n",
    "])\n",
    "\n",
    "# Callbacks\n",
    "@app.callback(Output('datatable-id', 'data'), [Input('filter-type', 'value')])\n",
    "def update_dashboard(filter_type):\n",
    "    query = {} if filter_type == 'all' else {\"animal_type\": filter_type}\n",
    "    return get_data(query).to_dict('records')\n",
    "\n",
    "@app.callback(Output('graph-id', 'children'), [Input('datatable-id', 'derived_virtual_data')])\n",
    "def update_graphs(viewData):\n",
    "    df = pd.DataFrame(viewData)\n",
    "    if df.empty:\n",
    "        return html.P(\"No data available.\")\n",
    "    fig = px.pie(df, names='breed', title='Animal Breed Distribution')\n",
    "    return dcc.Graph(figure=fig)\n",
    "\n",
    "@app.callback(Output('map-id', 'children'),\n",
    "              [Input('datatable-id', 'derived_virtual_data'),\n",
    "               Input('datatable-id', 'derived_virtual_selected_rows')])\n",
    "def update_map(viewData, index):\n",
    "    if not viewData or index is None:\n",
    "        return html.P(\"No location data available.\")\n",
    "    df = pd.DataFrame(viewData)\n",
    "    row = index[0] if index else 0\n",
    "    return dl.Map(style={'width': '1000px', 'height': '500px'}, center=[30.75, -97.48], zoom=10, children=[\n",
    "        dl.TileLayer(id=\"base-layer-id\"),\n",
    "        dl.Marker(position=[df.iloc[row]['location_lat'], df.iloc[row]['location_long']],\n",
    "                  children=[dl.Tooltip(df.iloc[row]['breed']),\n",
    "                            dl.Popup([html.H1(\"Animal Name\"), html.P(df.iloc[row]['name'])])])\n",
    "    ])\n",
    "\n",
    "\n",
    "\n",
    "app.run_server(debug=True)\n"
   ]
  },
  {
   "cell_type": "markdown",
   "id": "5ea9e94f",
   "metadata": {},
   "source": [
    "# README"
   ]
  },
  {
   "cell_type": "markdown",
   "id": "605bb768",
   "metadata": {},
   "source": [
    "# Project Title: Animal Shelter Dashboard"
   ]
  },
  {
   "cell_type": "markdown",
   "id": "fccf0e83",
   "metadata": {},
   "source": [
    "Overview\n",
    "This project is a web-based dashboard for an animal shelter that allows users to view, filter, and visualize data about the animals in the shelter. The dashboard is built using Dash, Plotly, and Dash Leaflet to display interactive data and maps. The dashboard provides an interface to filter by animal species and view related charts and maps.\n",
    "\n"
   ]
  },
  {
   "cell_type": "markdown",
   "id": "7debb31c",
   "metadata": {},
   "source": [
    "# Table of Contents\n",
    "1. Project Setup\n",
    "2. Features\n",
    "3. Installation Instructions\n",
    "4. Usage\n",
    "5. Screenshots\n",
    "6. Troubleshooting"
   ]
  },
  {
   "cell_type": "markdown",
   "id": "b86715be",
   "metadata": {},
   "source": [
    "# Project Setup"
   ]
  },
  {
   "cell_type": "markdown",
   "id": "b39e3b5b",
   "metadata": {},
   "source": [
    "Prerequisites\n",
    "Befoe beginning , ensure you have the following installed:\n",
    "\n",
    "1. Python 3.7+\n",
    "2. pip (Python package manager)\n",
    "3. MongoDB (connect to  MongoDB database)\n",
    "4. Dash and related libraries (Dash Leaflet, Plotly, Pandas)"
   ]
  },
  {
   "cell_type": "markdown",
   "id": "41ab8a0b",
   "metadata": {},
   "source": [
    "# Install Dependencies"
   ]
  },
  {
   "cell_type": "markdown",
   "id": "cea8316d",
   "metadata": {},
   "source": [
    "To set up the project, install the required Python libraries.\n",
    "\n",
    "install these dependencies using pip:\n",
    "pip install dash dash-leaflet plotly pandas pymongo\n"
   ]
  },
  {
   "cell_type": "markdown",
   "id": "514fad99",
   "metadata": {},
   "source": [
    "# MongoDB Setup\n",
    "\n",
    "1.Ensure your MongoDB is running and accessible, either locally or remotely.\n",
    "2. Replace the credentials in the script with your MongoDB username and password.\n",
    "3. Ensure that your database contains the necessary animal shelter data.\n"
   ]
  },
  {
   "cell_type": "markdown",
   "id": "83f6cfc6",
   "metadata": {},
   "source": [
    "# Features\n",
    "1. Data Table: Displays a table of animals in the shelter with filtering options (species-based).\n",
    "2. Breed Distribution Pie Chart: Visualizes the breed distribution of the animals using a pie chart.\n",
    "3. Map: Displays the animal locations on an interactive map using Dash Leaflet.\n",
    "4. Filters: Allows the user to filter the animals by species (e.g., Dogs, Cats).\n"
   ]
  },
  {
   "cell_type": "markdown",
   "id": "75eff3c4",
   "metadata": {},
   "source": [
    "# Installation Instructions\n",
    "Download the project files.\n",
    "Installed the required libraries listed above.\n",
    "Set up your MongoDB database with the appropriate data (animal details, including latitude and longitude).\n",
    "Replaced the username, password, and other database connection details in the code with your actual credentials.\n"
   ]
  },
  {
   "cell_type": "markdown",
   "id": "1c6a7a4a",
   "metadata": {},
   "source": [
    "# Usage\n",
    "\n",
    "Open your Jupyter Notebook environment.\n",
    "\n",
    "In the Jupyter Notebook, run the script cell by cell or click Run All to execute the code.\n",
    "\n",
    "Once the code is executed, the output will display in the form of a Dash app running on your local machine.\n",
    "\n",
    "You should see a message like this in the notebook output:\n",
    "\n",
    "Dash app running on http://127.0.0.1:10087/\n",
    "Open a web browser and navigate to http://127.0.0.1:10087/ to view the dashboard.\n",
    "\n",
    "On the dashboard:\n",
    "\n",
    "- Use the filtering dropdown to filter animals by species (Dog, Cat, or All).\n",
    "- View the breed distribution pie chart.\n",
    "- See the map showing the locations of animals by clicking on the rows in the data table.\n"
   ]
  },
  {
   "cell_type": "markdown",
   "id": "77141f65",
   "metadata": {},
   "source": [
    "# Troubleshooting\n",
    "If encounter issues, here are some common solutions:\n",
    "\n",
    "Authentication Errors: Ensure your MongoDB credentials are correct and that your MongoDB server is accessible.\n",
    "Missing Columns: If certain data fields (e.g., latitude/longitude) are missing, check your MongoDB database to ensure all records are complete."
   ]
  },
  {
   "cell_type": "code",
   "execution_count": null,
   "id": "874b8b10",
   "metadata": {},
   "outputs": [],
   "source": []
  }
 ],
 "metadata": {
  "kernelspec": {
   "display_name": "Python 3 (ipykernel)",
   "language": "python",
   "name": "python3"
  },
  "language_info": {
   "codemirror_mode": {
    "name": "ipython",
    "version": 3
   },
   "file_extension": ".py",
   "mimetype": "text/x-python",
   "name": "python",
   "nbconvert_exporter": "python",
   "pygments_lexer": "ipython3",
   "version": "3.9.12"
  }
 },
 "nbformat": 4,
 "nbformat_minor": 5
}
